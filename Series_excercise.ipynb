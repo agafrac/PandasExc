{
 "cells": [
  {
   "cell_type": "code",
   "execution_count": 3,
   "id": "b4422f1e",
   "metadata": {},
   "outputs": [],
   "source": [
    "import pandas as pd"
   ]
  },
  {
   "cell_type": "code",
   "execution_count": 1,
   "id": "9bc34e39",
   "metadata": {},
   "outputs": [],
   "source": [
    "icecream = [\"Chocolate\", \"Vanilla\", \"Strawberry\", \"Rum\"]"
   ]
  },
  {
   "cell_type": "code",
   "execution_count": 4,
   "id": "7ac06e46",
   "metadata": {},
   "outputs": [
    {
     "data": {
      "text/plain": [
       "0     Chocolate\n",
       "1       Vanilla\n",
       "2    Strawberry\n",
       "3           Rum\n",
       "dtype: object"
      ]
     },
     "execution_count": 4,
     "metadata": {},
     "output_type": "execute_result"
    }
   ],
   "source": [
    "pd.Series(icecream)"
   ]
  },
  {
   "cell_type": "code",
   "execution_count": 7,
   "id": "ea92306f",
   "metadata": {},
   "outputs": [],
   "source": [
    "dict1 = {\n",
    "    \"One\": \"Blues\",\n",
    "    \"Two\": \"Red\",\n",
    "    \"Three\": \"Black\"\n",
    "}"
   ]
  },
  {
   "cell_type": "code",
   "execution_count": 8,
   "id": "3c4c0dc5",
   "metadata": {},
   "outputs": [
    {
     "data": {
      "text/plain": [
       "One      Blues\n",
       "Two        Red\n",
       "Three    Black\n",
       "dtype: object"
      ]
     },
     "execution_count": 8,
     "metadata": {},
     "output_type": "execute_result"
    }
   ],
   "source": [
    "pd.Series(dict1)"
   ]
  },
  {
   "cell_type": "code",
   "execution_count": 11,
   "id": "c8fa8843",
   "metadata": {},
   "outputs": [],
   "source": [
    "numbers = [1, 2, 4, 9, 16, 25, 36, 49, 64, 81]"
   ]
  },
  {
   "cell_type": "code",
   "execution_count": 13,
   "id": "80515db0",
   "metadata": {},
   "outputs": [],
   "source": [
    "lista1 = pd.Series(numbers)"
   ]
  },
  {
   "cell_type": "code",
   "execution_count": 14,
   "id": "f88f48da",
   "metadata": {},
   "outputs": [
    {
     "data": {
      "text/plain": [
       "287"
      ]
     },
     "execution_count": 14,
     "metadata": {},
     "output_type": "execute_result"
    }
   ],
   "source": [
    "lista1.sum()"
   ]
  },
  {
   "cell_type": "code",
   "execution_count": 15,
   "id": "a8759e9f",
   "metadata": {},
   "outputs": [
    {
     "data": {
      "text/plain": [
       "28.7"
      ]
     },
     "execution_count": 15,
     "metadata": {},
     "output_type": "execute_result"
    }
   ],
   "source": [
    "lista1.mean()"
   ]
  },
  {
   "cell_type": "code",
   "execution_count": 16,
   "id": "5602c32c",
   "metadata": {},
   "outputs": [
    {
     "data": {
      "text/plain": [
       "263363788800"
      ]
     },
     "execution_count": 16,
     "metadata": {},
     "output_type": "execute_result"
    }
   ],
   "source": [
    "lista1.product()"
   ]
  },
  {
   "cell_type": "code",
   "execution_count": 18,
   "id": "f72fe28d",
   "metadata": {},
   "outputs": [
    {
     "data": {
      "text/plain": [
       "True"
      ]
     },
     "execution_count": 18,
     "metadata": {},
     "output_type": "execute_result"
    }
   ],
   "source": [
    "lista1.is_unique"
   ]
  },
  {
   "cell_type": "code",
   "execution_count": 19,
   "id": "8230a18e",
   "metadata": {},
   "outputs": [
    {
     "data": {
      "text/plain": [
       "RangeIndex(start=0, stop=10, step=1)"
      ]
     },
     "execution_count": 19,
     "metadata": {},
     "output_type": "execute_result"
    }
   ],
   "source": [
    "lista1.index"
   ]
  },
  {
   "cell_type": "code",
   "execution_count": 23,
   "id": "961566df",
   "metadata": {},
   "outputs": [
    {
     "data": {
      "text/plain": [
       "Red       Apples\n",
       "Yellow    Banana\n",
       "Green     Orange\n",
       "dtype: object"
      ]
     },
     "execution_count": 23,
     "metadata": {},
     "output_type": "execute_result"
    }
   ],
   "source": [
    "fruits = [\"Apples\", \"Banana\", \"Orange\"]\n",
    "colors = [\"Red\", \"Yellow\", \"Green\"]\n",
    "pd.Series(data = fruits, index = colors)"
   ]
  },
  {
   "cell_type": "code",
   "execution_count": null,
   "id": "b3e58aff",
   "metadata": {},
   "outputs": [],
   "source": []
  },
  {
   "cell_type": "code",
   "execution_count": 64,
   "id": "bc8ad8fd",
   "metadata": {},
   "outputs": [
    {
     "data": {
      "text/html": [
       "<div>\n",
       "<style scoped>\n",
       "    .dataframe tbody tr th:only-of-type {\n",
       "        vertical-align: middle;\n",
       "    }\n",
       "\n",
       "    .dataframe tbody tr th {\n",
       "        vertical-align: top;\n",
       "    }\n",
       "\n",
       "    .dataframe thead th {\n",
       "        text-align: right;\n",
       "    }\n",
       "</style>\n",
       "<table border=\"1\" class=\"dataframe\">\n",
       "  <thead>\n",
       "    <tr style=\"text-align: right;\">\n",
       "      <th></th>\n",
       "      <th>Name</th>\n",
       "      <th>Year</th>\n",
       "    </tr>\n",
       "  </thead>\n",
       "  <tbody>\n",
       "    <tr>\n",
       "      <th>0</th>\n",
       "      <td>Linda</td>\n",
       "      <td>1980</td>\n",
       "    </tr>\n",
       "    <tr>\n",
       "      <th>1</th>\n",
       "      <td>Susan</td>\n",
       "      <td>1978</td>\n",
       "    </tr>\n",
       "    <tr>\n",
       "      <th>2</th>\n",
       "      <td>Lily</td>\n",
       "      <td>1968</td>\n",
       "    </tr>\n",
       "    <tr>\n",
       "      <th>3</th>\n",
       "      <td>Jacob</td>\n",
       "      <td>1981</td>\n",
       "    </tr>\n",
       "    <tr>\n",
       "      <th>4</th>\n",
       "      <td>George</td>\n",
       "      <td>1982</td>\n",
       "    </tr>\n",
       "    <tr>\n",
       "      <th>5</th>\n",
       "      <td>Sarah</td>\n",
       "      <td>1967</td>\n",
       "    </tr>\n",
       "    <tr>\n",
       "      <th>6</th>\n",
       "      <td>Tom</td>\n",
       "      <td>1970</td>\n",
       "    </tr>\n",
       "    <tr>\n",
       "      <th>7</th>\n",
       "      <td>John</td>\n",
       "      <td>1976</td>\n",
       "    </tr>\n",
       "    <tr>\n",
       "      <th>8</th>\n",
       "      <td>Kate</td>\n",
       "      <td>1983</td>\n",
       "    </tr>\n",
       "    <tr>\n",
       "      <th>9</th>\n",
       "      <td>Will</td>\n",
       "      <td>1973</td>\n",
       "    </tr>\n",
       "    <tr>\n",
       "      <th>10</th>\n",
       "      <td>Margaret</td>\n",
       "      <td>1971</td>\n",
       "    </tr>\n",
       "    <tr>\n",
       "      <th>11</th>\n",
       "      <td>Cindy</td>\n",
       "      <td>1987</td>\n",
       "    </tr>\n",
       "    <tr>\n",
       "      <th>12</th>\n",
       "      <td>Jake</td>\n",
       "      <td>1990</td>\n",
       "    </tr>\n",
       "    <tr>\n",
       "      <th>13</th>\n",
       "      <td>Luke</td>\n",
       "      <td>1987</td>\n",
       "    </tr>\n",
       "    <tr>\n",
       "      <th>14</th>\n",
       "      <td>Linda</td>\n",
       "      <td>1982</td>\n",
       "    </tr>\n",
       "    <tr>\n",
       "      <th>15</th>\n",
       "      <td>Lily</td>\n",
       "      <td>1983</td>\n",
       "    </tr>\n",
       "    <tr>\n",
       "      <th>16</th>\n",
       "      <td>Jacob</td>\n",
       "      <td>1984</td>\n",
       "    </tr>\n",
       "    <tr>\n",
       "      <th>17</th>\n",
       "      <td>Kate</td>\n",
       "      <td>1987</td>\n",
       "    </tr>\n",
       "    <tr>\n",
       "      <th>18</th>\n",
       "      <td>Kate</td>\n",
       "      <td>1977</td>\n",
       "    </tr>\n",
       "    <tr>\n",
       "      <th>19</th>\n",
       "      <td>Jake</td>\n",
       "      <td>1987</td>\n",
       "    </tr>\n",
       "    <tr>\n",
       "      <th>20</th>\n",
       "      <td>Jacob</td>\n",
       "      <td>1972</td>\n",
       "    </tr>\n",
       "    <tr>\n",
       "      <th>21</th>\n",
       "      <td>George</td>\n",
       "      <td>1979</td>\n",
       "    </tr>\n",
       "  </tbody>\n",
       "</table>\n",
       "</div>"
      ],
      "text/plain": [
       "        Name  Year\n",
       "0      Linda  1980\n",
       "1      Susan  1978\n",
       "2       Lily  1968\n",
       "3      Jacob  1981\n",
       "4     George  1982\n",
       "5      Sarah  1967\n",
       "6        Tom  1970\n",
       "7       John  1976\n",
       "8       Kate  1983\n",
       "9       Will  1973\n",
       "10  Margaret  1971\n",
       "11     Cindy  1987\n",
       "12      Jake  1990\n",
       "13      Luke  1987\n",
       "14     Linda  1982\n",
       "15      Lily  1983\n",
       "16     Jacob  1984\n",
       "17      Kate  1987\n",
       "18      Kate  1977\n",
       "19      Jake  1987\n",
       "20     Jacob  1972\n",
       "21    George  1979"
      ]
     },
     "execution_count": 64,
     "metadata": {},
     "output_type": "execute_result"
    }
   ],
   "source": [
    "dane1 = pd.read_csv(\"Dane.csv\")\n",
    "dane1"
   ]
  },
  {
   "cell_type": "code",
   "execution_count": 65,
   "id": "a8b19f6f",
   "metadata": {},
   "outputs": [
    {
     "data": {
      "text/html": [
       "<div>\n",
       "<style scoped>\n",
       "    .dataframe tbody tr th:only-of-type {\n",
       "        vertical-align: middle;\n",
       "    }\n",
       "\n",
       "    .dataframe tbody tr th {\n",
       "        vertical-align: top;\n",
       "    }\n",
       "\n",
       "    .dataframe thead th {\n",
       "        text-align: right;\n",
       "    }\n",
       "</style>\n",
       "<table border=\"1\" class=\"dataframe\">\n",
       "  <thead>\n",
       "    <tr style=\"text-align: right;\">\n",
       "      <th></th>\n",
       "      <th>Name</th>\n",
       "      <th>Year</th>\n",
       "    </tr>\n",
       "  </thead>\n",
       "  <tbody>\n",
       "    <tr>\n",
       "      <th>0</th>\n",
       "      <td>Linda</td>\n",
       "      <td>1980</td>\n",
       "    </tr>\n",
       "    <tr>\n",
       "      <th>1</th>\n",
       "      <td>Susan</td>\n",
       "      <td>1978</td>\n",
       "    </tr>\n",
       "    <tr>\n",
       "      <th>2</th>\n",
       "      <td>Lily</td>\n",
       "      <td>1968</td>\n",
       "    </tr>\n",
       "  </tbody>\n",
       "</table>\n",
       "</div>"
      ],
      "text/plain": [
       "    Name  Year\n",
       "0  Linda  1980\n",
       "1  Susan  1978\n",
       "2   Lily  1968"
      ]
     },
     "execution_count": 65,
     "metadata": {},
     "output_type": "execute_result"
    }
   ],
   "source": [
    "dane1.head(3)"
   ]
  },
  {
   "cell_type": "code",
   "execution_count": 66,
   "id": "6c80e8c5",
   "metadata": {},
   "outputs": [
    {
     "data": {
      "text/html": [
       "<div>\n",
       "<style scoped>\n",
       "    .dataframe tbody tr th:only-of-type {\n",
       "        vertical-align: middle;\n",
       "    }\n",
       "\n",
       "    .dataframe tbody tr th {\n",
       "        vertical-align: top;\n",
       "    }\n",
       "\n",
       "    .dataframe thead th {\n",
       "        text-align: right;\n",
       "    }\n",
       "</style>\n",
       "<table border=\"1\" class=\"dataframe\">\n",
       "  <thead>\n",
       "    <tr style=\"text-align: right;\">\n",
       "      <th></th>\n",
       "      <th>Name</th>\n",
       "      <th>Year</th>\n",
       "    </tr>\n",
       "  </thead>\n",
       "  <tbody>\n",
       "    <tr>\n",
       "      <th>19</th>\n",
       "      <td>Jake</td>\n",
       "      <td>1987</td>\n",
       "    </tr>\n",
       "    <tr>\n",
       "      <th>20</th>\n",
       "      <td>Jacob</td>\n",
       "      <td>1972</td>\n",
       "    </tr>\n",
       "    <tr>\n",
       "      <th>21</th>\n",
       "      <td>George</td>\n",
       "      <td>1979</td>\n",
       "    </tr>\n",
       "  </tbody>\n",
       "</table>\n",
       "</div>"
      ],
      "text/plain": [
       "      Name  Year\n",
       "19    Jake  1987\n",
       "20   Jacob  1972\n",
       "21  George  1979"
      ]
     },
     "execution_count": 66,
     "metadata": {},
     "output_type": "execute_result"
    }
   ],
   "source": [
    "dane1.tail(3)"
   ]
  },
  {
   "cell_type": "code",
   "execution_count": 87,
   "id": "6113b2c7",
   "metadata": {},
   "outputs": [
    {
     "data": {
      "text/plain": [
       "0        Linda\n",
       "1        Susan\n",
       "2         Lily\n",
       "3        Jacob\n",
       "4       George\n",
       "5        Sarah\n",
       "6          Tom\n",
       "7         John\n",
       "8         Kate\n",
       "9         Will\n",
       "10    Margaret\n",
       "11       Cindy\n",
       "12        Jake\n",
       "13        Luke\n",
       "14       Linda\n",
       "15        Lily\n",
       "16       Jacob\n",
       "17        Kate\n",
       "18        Kate\n",
       "19        Jake\n",
       "20       Jacob\n",
       "21      George\n",
       "Name: Name, dtype: object"
      ]
     },
     "execution_count": 87,
     "metadata": {},
     "output_type": "execute_result"
    }
   ],
   "source": [
    "dane1 = pd.read_csv(\"Dane.csv\", usecols = [\"Name\"]).squeeze()\n",
    "dane1.sort_index()"
   ]
  },
  {
   "cell_type": "code",
   "execution_count": 88,
   "id": "9e4028c1",
   "metadata": {},
   "outputs": [
    {
     "data": {
      "text/plain": [
       "9         Will\n",
       "6          Tom\n",
       "1        Susan\n",
       "5        Sarah\n",
       "10    Margaret\n",
       "13        Luke\n",
       "14       Linda\n",
       "0        Linda\n",
       "2         Lily\n",
       "15        Lily\n",
       "8         Kate\n",
       "17        Kate\n",
       "18        Kate\n",
       "7         John\n",
       "19        Jake\n",
       "12        Jake\n",
       "20       Jacob\n",
       "3        Jacob\n",
       "16       Jacob\n",
       "21      George\n",
       "4       George\n",
       "11       Cindy\n",
       "Name: Name, dtype: object"
      ]
     },
     "execution_count": 88,
     "metadata": {},
     "output_type": "execute_result"
    }
   ],
   "source": [
    "dane1.sort_values(ascending = False)"
   ]
  },
  {
   "cell_type": "code",
   "execution_count": 99,
   "id": "2635f7a3",
   "metadata": {},
   "outputs": [
    {
     "data": {
      "text/plain": [
       "0     Linda\n",
       "1     Susan\n",
       "2      Lily\n",
       "3     Jacob\n",
       "4    George\n",
       "Name: Name, dtype: object"
      ]
     },
     "execution_count": 99,
     "metadata": {},
     "output_type": "execute_result"
    }
   ],
   "source": [
    "dane1.head(5)"
   ]
  },
  {
   "cell_type": "code",
   "execution_count": 90,
   "id": "89faa98c",
   "metadata": {},
   "outputs": [
    {
     "data": {
      "text/plain": [
       "False"
      ]
     },
     "execution_count": 90,
     "metadata": {},
     "output_type": "execute_result"
    }
   ],
   "source": [
    "1987 in dane1.values"
   ]
  },
  {
   "cell_type": "code",
   "execution_count": 91,
   "id": "c5d0ccd5",
   "metadata": {},
   "outputs": [
    {
     "data": {
      "text/plain": [
       "0    Linda\n",
       "1    Susan\n",
       "Name: Name, dtype: object"
      ]
     },
     "execution_count": 91,
     "metadata": {},
     "output_type": "execute_result"
    }
   ],
   "source": [
    "dane1[0:2]"
   ]
  },
  {
   "cell_type": "code",
   "execution_count": 84,
   "id": "9e95c33c",
   "metadata": {},
   "outputs": [
    {
     "data": {
      "text/plain": [
       "'None'"
      ]
     },
     "execution_count": 84,
     "metadata": {},
     "output_type": "execute_result"
    }
   ],
   "source": [
    "dane1.get(\"Ala\", \"None\")"
   ]
  },
  {
   "cell_type": "code",
   "execution_count": 85,
   "id": "6560e2b3",
   "metadata": {},
   "outputs": [],
   "source": [
    "dane1[21] = [\"Ala\"] "
   ]
  },
  {
   "cell_type": "code",
   "execution_count": 86,
   "id": "141d202d",
   "metadata": {},
   "outputs": [
    {
     "data": {
      "text/plain": [
       "0        Linda\n",
       "1        Susan\n",
       "2         Lily\n",
       "3        Jacob\n",
       "4       George\n",
       "5        Sarah\n",
       "6          Tom\n",
       "7         John\n",
       "8         Kate\n",
       "9         Will\n",
       "10    Margaret\n",
       "11       Cindy\n",
       "12        Jake\n",
       "13        Luke\n",
       "14       Linda\n",
       "15        Lily\n",
       "16       Jacob\n",
       "17        Kate\n",
       "18        Kate\n",
       "19        Jake\n",
       "20       Jacob\n",
       "21       [Ala]\n",
       "Name: Name, dtype: object"
      ]
     },
     "execution_count": 86,
     "metadata": {},
     "output_type": "execute_result"
    }
   ],
   "source": [
    "dane1"
   ]
  },
  {
   "cell_type": "code",
   "execution_count": 92,
   "id": "dd70e49d",
   "metadata": {},
   "outputs": [],
   "source": [
    "dane1klon = dane1.copy()"
   ]
  },
  {
   "cell_type": "code",
   "execution_count": 94,
   "id": "ff5c1319",
   "metadata": {},
   "outputs": [],
   "source": [
    "dane1klon[1] = \"Meggy\""
   ]
  },
  {
   "cell_type": "code",
   "execution_count": 98,
   "id": "8203525c",
   "metadata": {},
   "outputs": [
    {
     "data": {
      "text/plain": [
       "0     Linda\n",
       "1     Meggy\n",
       "2      Lily\n",
       "3     Jacob\n",
       "4    George\n",
       "Name: Name, dtype: object"
      ]
     },
     "execution_count": 98,
     "metadata": {},
     "output_type": "execute_result"
    }
   ],
   "source": [
    "dane1klon.head(5)"
   ]
  },
  {
   "cell_type": "code",
   "execution_count": 97,
   "id": "c39bdaf5",
   "metadata": {},
   "outputs": [
    {
     "data": {
      "text/plain": [
       "0    Linda\n",
       "1    Susan\n",
       "2     Lily\n",
       "Name: Name, dtype: object"
      ]
     },
     "execution_count": 97,
     "metadata": {},
     "output_type": "execute_result"
    }
   ],
   "source": [
    "dane1.head(3)"
   ]
  },
  {
   "cell_type": "code",
   "execution_count": 103,
   "id": "2d177749",
   "metadata": {},
   "outputs": [],
   "source": [
    "dane2 = dane1.sort_values()"
   ]
  },
  {
   "cell_type": "code",
   "execution_count": 104,
   "id": "4b4b030b",
   "metadata": {},
   "outputs": [
    {
     "data": {
      "text/plain": [
       "11       Cindy\n",
       "21      George\n",
       "4       George\n",
       "3        Jacob\n",
       "16       Jacob\n",
       "20       Jacob\n",
       "19        Jake\n",
       "12        Jake\n",
       "7         John\n",
       "18        Kate\n",
       "17        Kate\n",
       "8         Kate\n",
       "2         Lily\n",
       "15        Lily\n",
       "0        Linda\n",
       "14       Linda\n",
       "13        Luke\n",
       "10    Margaret\n",
       "5        Sarah\n",
       "1        Susan\n",
       "6          Tom\n",
       "9         Will\n",
       "Name: Name, dtype: object"
      ]
     },
     "execution_count": 104,
     "metadata": {},
     "output_type": "execute_result"
    }
   ],
   "source": [
    "dane2"
   ]
  },
  {
   "cell_type": "code",
   "execution_count": 105,
   "id": "1e19c754",
   "metadata": {},
   "outputs": [
    {
     "data": {
      "text/plain": [
       "count        22\n",
       "unique       14\n",
       "top       Jacob\n",
       "freq          3\n",
       "Name: Name, dtype: object"
      ]
     },
     "execution_count": 105,
     "metadata": {},
     "output_type": "execute_result"
    }
   ],
   "source": [
    "dane2.describe()"
   ]
  },
  {
   "cell_type": "code",
   "execution_count": 108,
   "id": "58f3d2ae",
   "metadata": {},
   "outputs": [
    {
     "data": {
      "text/plain": [
       "Jacob       13.636364\n",
       "Kate        13.636364\n",
       "George       9.090909\n",
       "Jake         9.090909\n",
       "Lily         9.090909\n",
       "Linda        9.090909\n",
       "Cindy        4.545455\n",
       "John         4.545455\n",
       "Luke         4.545455\n",
       "Margaret     4.545455\n",
       "Sarah        4.545455\n",
       "Susan        4.545455\n",
       "Tom          4.545455\n",
       "Will         4.545455\n",
       "Name: Name, dtype: float64"
      ]
     },
     "execution_count": 108,
     "metadata": {},
     "output_type": "execute_result"
    }
   ],
   "source": [
    "dane2.value_counts(normalize = True) * 100"
   ]
  },
  {
   "cell_type": "code",
   "execution_count": 114,
   "id": "365a5207",
   "metadata": {},
   "outputs": [
    {
     "data": {
      "text/plain": [
       "0        Linda\n",
       "1        Susan\n",
       "2         Lily\n",
       "3        Jacob\n",
       "4       George\n",
       "5        Sarah\n",
       "6          Tom\n",
       "7         John\n",
       "8         Kate\n",
       "9         Will\n",
       "10    Margaret\n",
       "11       Cindy\n",
       "12        Jake\n",
       "13        Luke\n",
       "14       Linda\n",
       "15        Lily\n",
       "16       Jacob\n",
       "17        Kate\n",
       "18        Kate\n",
       "19        Jake\n",
       "20       Jacob\n",
       "21      George\n",
       "Name: Name, dtype: object"
      ]
     },
     "execution_count": 114,
     "metadata": {},
     "output_type": "execute_result"
    }
   ],
   "source": [
    "dane1"
   ]
  },
  {
   "cell_type": "code",
   "execution_count": 118,
   "id": "fb0306d7",
   "metadata": {},
   "outputs": [
    {
     "data": {
      "text/plain": [
       "0     Three\n",
       "1     Three\n",
       "2     Three\n",
       "3       One\n",
       "4     Three\n",
       "5     Three\n",
       "6     Three\n",
       "7       Two\n",
       "8       One\n",
       "9     Three\n",
       "10    Three\n",
       "11    Three\n",
       "12    Three\n",
       "13    Three\n",
       "14    Three\n",
       "15    Three\n",
       "16      One\n",
       "17      One\n",
       "18      One\n",
       "19    Three\n",
       "20      One\n",
       "21    Three\n",
       "Name: Name, dtype: object"
      ]
     },
     "execution_count": 118,
     "metadata": {},
     "output_type": "execute_result"
    }
   ],
   "source": [
    "def fun_dan(name):\n",
    "    if name in [\"Jacob\", \"Kate\"]:\n",
    "        return \"One\"\n",
    "    elif name == \"John\":\n",
    "        return \"Two\"\n",
    "    else:\n",
    "        return \"Three\"\n",
    "\n",
    "dane1.apply(fun_dan)"
   ]
  },
  {
   "cell_type": "code",
   "execution_count": null,
   "id": "2c7e9b4f",
   "metadata": {},
   "outputs": [],
   "source": []
  }
 ],
 "metadata": {
  "kernelspec": {
   "display_name": "Python 3 (ipykernel)",
   "language": "python",
   "name": "python3"
  },
  "language_info": {
   "codemirror_mode": {
    "name": "ipython",
    "version": 3
   },
   "file_extension": ".py",
   "mimetype": "text/x-python",
   "name": "python",
   "nbconvert_exporter": "python",
   "pygments_lexer": "ipython3",
   "version": "3.10.6"
  }
 },
 "nbformat": 4,
 "nbformat_minor": 5
}
